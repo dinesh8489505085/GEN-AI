{
  "nbformat": 4,
  "nbformat_minor": 0,
  "metadata": {
    "colab": {
      "provenance": [],
      "authorship_tag": "ABX9TyPRevJDGO+GifixSB1Yuppe",
      "include_colab_link": true
    },
    "kernelspec": {
      "name": "python3",
      "display_name": "Python 3"
    },
    "language_info": {
      "name": "python"
    }
  },
  "cells": [
    {
      "cell_type": "markdown",
      "metadata": {
        "id": "view-in-github",
        "colab_type": "text"
      },
      "source": [
        "<a href=\"https://colab.research.google.com/github/dinesh8489505085/GEN-AI/blob/main/AI.ipynb\" target=\"_parent\"><img src=\"https://colab.research.google.com/assets/colab-badge.svg\" alt=\"Open In Colab\"/></a>"
      ]
    },
    {
      "cell_type": "code",
      "execution_count": null,
      "metadata": {
        "id": "U4FgUW9VndL3"
      },
      "outputs": [],
      "source": [
        "# 📦 Install dependencies\n",
        "!pip install -q transformers gradio accelerate\n",
        "\n",
        "# 🧠 Load FLAN-T5 Model\n",
        "from transformers import AutoTokenizer, AutoModelForSeq2SeqLM\n",
        "import torch\n",
        "\n",
        "model_name = \"google/flan-t5-base\"\n",
        "tokenizer = AutoTokenizer.from_pretrained(model_name)\n",
        "model = AutoModelForSeq2SeqLM.from_pretrained(model_name)\n",
        "\n",
        "# 🚀 Define Task Function\n",
        "def textfusion_task(prompt):\n",
        "    inputs = tokenizer(prompt, return_tensors=\"pt\", truncation=True)\n",
        "    outputs = model.generate(**inputs, max_new_tokens=128)\n",
        "    return tokenizer.decode(outputs[0], skip_special_tokens=True)\n",
        "\n",
        "# 🎨 Gradio Interface\n",
        "import gradio as gr\n",
        "\n",
        "examples = [\n",
        "    [\"summarize: The COVID-19 pandemic affected the entire world and caused a major shift...\"],\n",
        "    [\"translate English to French: I love natural language processing!\"],\n",
        "    [\"question: Who is the CEO of Tesla? context: Elon Musk founded several companies...\"],\n",
        "    [\"sentiment: I had an amazing experience with the new app.\"],\n",
        "    [\"fix grammar: she go to market yesterday.\"]\n",
        "]\n",
        "\n",
        "gr.Interface(\n",
        "    fn=textfusion_task,\n",
        "    inputs=gr.Textbox(lines=3, placeholder=\"Enter task-based prompt (e.g., summarize: ...)\", label=\"TextFusion Prompt\"),\n",
        "    outputs=gr.Textbox(label=\"Model Output\"),\n",
        "    title=\"TextFusion: Multi-Task Transformer\",\n",
        "    description=\"Try summarization, translation, sentiment analysis, QA, and grammar correction using FLAN-T5.\",\n",
        "    examples=examples\n",
        ").launch()"
      ]
    }
  ]
}