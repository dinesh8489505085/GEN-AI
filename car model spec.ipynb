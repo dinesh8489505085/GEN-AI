{
  "nbformat": 4,
  "nbformat_minor": 0,
  "metadata": {
    "colab": {
      "provenance": [],
      "authorship_tag": "ABX9TyMlp3pe429Bt/RIZRpAYpnb",
      "include_colab_link": true
    },
    "kernelspec": {
      "name": "python3",
      "display_name": "Python 3"
    },
    "language_info": {
      "name": "python"
    }
  },
  "cells": [
    {
      "cell_type": "markdown",
      "metadata": {
        "id": "view-in-github",
        "colab_type": "text"
      },
      "source": [
        "<a href=\"https://colab.research.google.com/github/dinesh8489505085/GEN-AI/blob/main/car%20model%20spec.ipynb\" target=\"_parent\"><img src=\"https://colab.research.google.com/assets/colab-badge.svg\" alt=\"Open In Colab\"/></a>"
      ]
    },
    {
      "cell_type": "code",
      "source": [
        "import requests\n",
        "\n",
        "def get_models_by_make(make):\n",
        "    url = f\"https://vpic.nhtsa.dot.gov/api/vehicles/getmodelsformake/{make}?format=json\"\n",
        "    response = requests.get(url)\n",
        "\n",
        "    if response.status_code == 200:\n",
        "        data = response.json()\n",
        "        models = data.get('Results', [])\n",
        "        return models\n",
        "    else:\n",
        "        print(\"Failed to fetch model data.\")\n",
        "        return []\n",
        "\n",
        "def get_vehicle_specification(make, model):\n",
        "    url = f\"https://vpic.nhtsa.dot.gov/api/vehicles/GetVehicleTypesForMakeModel/{make}/{model}?format=json\"\n",
        "    response = requests.get(url)\n",
        "\n",
        "    if response.status_code == 200:\n",
        "        specs = response.json().get('Results', [])\n",
        "        return specs\n",
        "    else:\n",
        "        print(\"Failed to fetch specifications.\")\n",
        "        return []\n",
        "\n",
        "def main():\n",
        "    make = input(\"Enter car make (e.g., Toyota, Honda): \").lower()\n",
        "    models = get_models_by_make(make)\n",
        "\n",
        "    if not models:\n",
        "        print(\"No models found.\")\n",
        "        return\n",
        "\n",
        "    print(f\"\\nFound {len(models)} models for '{make.title()}':\")\n",
        "    for idx, model in enumerate(models[:10]):\n",
        "        print(f\"{idx + 1}. {model['Model_Name']}\")\n",
        "\n",
        "    try:\n",
        "        choice = int(input(\"\\nSelect a model number for specifications (1-10): \")) - 1\n",
        "        if 0 <= choice < len(models[:10]):\n",
        "            selected_model = models[choice]['Model_Name']\n",
        "            print(f\"\\nFetching specifications for: {make.title()} {selected_model}...\")\n",
        "            specs = get_vehicle_specification(make, selected_model)\n",
        "            if specs:\n",
        "                print(\"\\nVehicle Types / Specifications:\")\n",
        "                for spec in specs:\n",
        "                    print(f\"- Vehicle Type: {spec['VehicleTypeName']}\")\n",
        "            else:\n",
        "                print(\"No specifications found.\")\n",
        "        else:\n",
        "            print(\"Invalid choice.\")\n",
        "    except ValueError:\n",
        "        print(\"Invalid input.\")\n",
        "\n",
        "if __name__ == \"__main__\":\n",
        "    main()\n"
      ],
      "metadata": {
        "colab": {
          "base_uri": "https://localhost:8080/"
        },
        "id": "FoPL3EZaB3xM",
        "outputId": "21ffbab4-92ab-47df-f22c-15d6eeaae3dd"
      },
      "execution_count": null,
      "outputs": [
        {
          "output_type": "stream",
          "name": "stdout",
          "text": [
            "Enter car make (e.g., Toyota, Honda): toyota\n",
            "\n",
            "Found 56 models for 'Toyota':\n",
            "1. Scion xA\n",
            "2. Scion tC\n",
            "3. Corolla\n",
            "4. Prius\n",
            "5. Scion xB\n",
            "6. Land Cruiser\n",
            "7. Highlander\n",
            "8. 4-Runner\n",
            "9. RAV4\n",
            "10. Tacoma\n",
            "\n",
            "Select a model number for specifications (1-10): 2\n",
            "\n",
            "Fetching specifications for: Toyota Scion tC...\n",
            "Failed to fetch specifications.\n",
            "No specifications found.\n"
          ]
        }
      ]
    },
    {
      "cell_type": "code",
      "source": [],
      "metadata": {
        "id": "7yBJa7iOCLG9"
      },
      "execution_count": null,
      "outputs": []
    }
  ]
}