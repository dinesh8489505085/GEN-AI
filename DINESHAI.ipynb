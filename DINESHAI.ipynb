{
  "nbformat": 4,
  "nbformat_minor": 0,
  "metadata": {
    "colab": {
      "provenance": []
    },
    "kernelspec": {
      "name": "python3",
      "display_name": "Python 3"
    },
    "language_info": {
      "name": "python"
    }
  },
  "cells": [
    {
      "cell_type": "code",
      "execution_count": null,
      "metadata": {
        "id": "uga9lQ3gKDaf"
      },
      "outputs": [],
      "source": [
        "# ============================================================\n",
        "# 🎵 Lyric2Art - Text-to-Image Mini Project using Stable Diffusion\n",
        "# ============================================================\n",
        "\n",
        "!pip install -q diffusers transformers accelerate safetensors torch torchvision\n",
        "\n",
        "from diffusers import StableDiffusionPipeline\n",
        "import torch\n",
        "from PIL import Image\n",
        "import IPython.display as display\n",
        "\n",
        "# -------------------------------\n",
        "# 1. Load the Stable Diffusion Model\n",
        "# -------------------------------\n",
        "model_id = \"runwayml/stable-diffusion-v1-5\"\n",
        "\n",
        "pipe = StableDiffusionPipeline.from_pretrained(\n",
        "    model_id,\n",
        "    torch_dtype=torch.float16 if torch.cuda.is_available() else torch.float32\n",
        ")\n",
        "pipe = pipe.to(\"cuda\" if torch.cuda.is_available() else \"cpu\")\n",
        "\n",
        "# -------------------------------\n",
        "# 2. Input: Song Lyrics\n",
        "# -------------------------------\n",
        "print(\"🎧 Example inputs:\")\n",
        "print(\" - 'I see trees of green, red roses too, I see them bloom for me and you'\")\n",
        "print(\" - 'Cause baby you're a firework, come on let your colors burst'\")\n",
        "print(\" - 'We're soaring, flying, there's not a star in heaven that we can't reach'\")\n",
        "\n",
        "lyric = input(\"\\nEnter a line of song lyrics: \")\n",
        "\n",
        "# -------------------------------\n",
        "# 3. Enhance Lyrics into a Rich Prompt\n",
        "# -------------------------------\n",
        "art_style = \"digital art, cinematic lighting, detailed, emotional, surreal\"\n",
        "prompt = f\"An artistic visualization of the lyric: '{lyric}', {art_style}\"\n",
        "\n",
        "print(f\"\\n🎨 Generating Art for: {lyric}\\n\")\n",
        "\n",
        "# -------------------------------\n",
        "# 4. Generate the Image\n",
        "# -------------------------------\n",
        "image = pipe(prompt, guidance_scale=8.5, num_inference_steps=30).images[0]\n",
        "\n",
        "# -------------------------------\n",
        "# 5. Display and Save\n",
        "# -------------------------------\n",
        "display.display(image)\n",
        "\n",
        "save_path = \"lyric2art_output.png\"\n",
        "image.save(save_path)\n",
        "print(f\"✅ Image saved as: {save_path}\")\n"
      ]
    }
  ]
}